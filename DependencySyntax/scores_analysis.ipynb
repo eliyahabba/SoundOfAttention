{
 "cells": [
  {
   "cell_type": "code",
   "execution_count": 2,
   "metadata": {
    "collapsed": true,
    "ExecuteTime": {
     "end_time": "2023-07-30T10:33:42.078554923Z",
     "start_time": "2023-07-30T10:33:42.069429886Z"
    }
   },
   "outputs": [],
   "source": [
    "import pandas as pd\n",
    "df_bert = pd.read_pickle(\"bert_scores_head_idx.pkl\")\n",
    "df_w2v2 = pd.read_pickle(\"w2v2_scores_head_idx.pkl\")"
   ]
  },
  {
   "cell_type": "code",
   "execution_count": 3,
   "outputs": [],
   "source": [
    "df_bert.loc[df_bert.layer.notna(),'model'] = \"bert\"\n",
    "df_w2v2.loc[df_w2v2.layer.notna(),'model'] = \"w2v2\""
   ],
   "metadata": {
    "collapsed": false,
    "ExecuteTime": {
     "end_time": "2023-07-30T10:33:45.489365976Z",
     "start_time": "2023-07-30T10:33:45.487191549Z"
    }
   }
  },
  {
   "cell_type": "code",
   "execution_count": 4,
   "outputs": [],
   "source": [
    "df = pd.concat((df_bert,df_w2v2)).drop_duplicates()"
   ],
   "metadata": {
    "collapsed": false,
    "ExecuteTime": {
     "end_time": "2023-07-30T10:33:47.055972412Z",
     "start_time": "2023-07-30T10:33:47.036718340Z"
    }
   }
  },
  {
   "cell_type": "code",
   "execution_count": 5,
   "outputs": [],
   "source": [
    "df.loc[df.model.isna(), 'model'] = 'baseline'"
   ],
   "metadata": {
    "collapsed": false,
    "ExecuteTime": {
     "end_time": "2023-07-30T10:33:48.924515444Z",
     "start_time": "2023-07-30T10:33:48.919328818Z"
    }
   }
  },
  {
   "cell_type": "code",
   "execution_count": 6,
   "outputs": [],
   "source": [
    "df.groupby('model').max().transpose().to_csv(\"max_scores.csv\")"
   ],
   "metadata": {
    "collapsed": false,
    "ExecuteTime": {
     "end_time": "2023-07-30T10:33:50.418439974Z",
     "start_time": "2023-07-30T10:33:50.404499829Z"
    }
   }
  },
  {
   "cell_type": "code",
   "execution_count": 7,
   "outputs": [],
   "source": [
    "counts = {'root': 534.0,\n",
    " 'all': 7013.0,\n",
    " 'advmod': 334.0,\n",
    " 'expl': 34.0,\n",
    " 'cop': 147.0,\n",
    " 'mark': 303.0,\n",
    " 'aux': 182.0,\n",
    " 'csubj': 13.0,\n",
    " 'obj': 440.0,\n",
    " 'amod': 402.0,\n",
    " 'obl': 453.0,\n",
    " 'case': 645.0,\n",
    " 'det': 668.0,\n",
    " 'xcomp': 143.0,\n",
    " 'nsubj': 590.0,\n",
    " 'advcl': 166.0,\n",
    " 'cc': 252.0,\n",
    " 'conj': 349.0,\n",
    " 'acl:relcl': 74.0,\n",
    " 'nmod': 376.0,\n",
    " 'acl': 95.0,\n",
    " 'appos': 44.0,\n",
    " 'nmod:npmod': 4.0,\n",
    " 'obl:tmod': 11.0,\n",
    " 'compound': 173.0,\n",
    " 'nmod:poss': 129.0,\n",
    " 'aux:pass': 69.0,\n",
    " 'ccomp': 72.0,\n",
    " 'nummod': 28.0,\n",
    " 'nsubj:pass': 64.0,\n",
    " 'cc:preconj': 5.0,\n",
    " 'compound:prt': 49.0,\n",
    " 'flat': 63.0,\n",
    " 'discourse': 10.0,\n",
    " 'fixed': 23.0,\n",
    " 'parataxis': 24.0,\n",
    " 'orphan': 1.0,\n",
    " 'obl:npmod': 10.0,\n",
    " 'dep': 16.0,\n",
    " 'iobj': 7.0,\n",
    " 'vocative': 2.0,\n",
    " 'det:predet': 4.0,\n",
    " 'dislocated': 1.0,\n",
    " 'goeswith': 3.0,\n",
    " 'reparandum': 1.0}\n",
    "\n",
    "counts = [{'rel': k,  'counts': v} for k, v in counts.items()]"
   ],
   "metadata": {
    "collapsed": false,
    "ExecuteTime": {
     "end_time": "2023-07-30T10:36:53.618779861Z",
     "start_time": "2023-07-30T10:36:53.577253520Z"
    }
   }
  },
  {
   "cell_type": "code",
   "execution_count": 8,
   "outputs": [],
   "source": [
    "pd.DataFrame(counts).to_csv(\"counts.csv\")"
   ],
   "metadata": {
    "collapsed": false,
    "ExecuteTime": {
     "end_time": "2023-07-30T10:36:56.694860161Z",
     "start_time": "2023-07-30T10:36:56.653250487Z"
    }
   }
  },
  {
   "cell_type": "code",
   "execution_count": 9,
   "outputs": [],
   "source": [
    "counts_df = pd.DataFrame(counts)\n",
    "df.groupby('model').max().transpose().join(counts_df.set_index('rel'))[['counts']].to_csv(\"counts.csv\")"
   ],
   "metadata": {
    "collapsed": false,
    "ExecuteTime": {
     "end_time": "2023-07-30T10:37:12.183318663Z",
     "start_time": "2023-07-30T10:37:12.161053574Z"
    }
   }
  },
  {
   "cell_type": "code",
   "execution_count": 10,
   "outputs": [
    {
     "data": {
      "text/plain": "          advmod  aux  case  det  fixed\nmodel                                  \nbaseline     292  292   293  292    288\nbert          10  225    94   94     41\nw2v2          49   94    89   97     40",
      "text/html": "<div>\n<style scoped>\n    .dataframe tbody tr th:only-of-type {\n        vertical-align: middle;\n    }\n\n    .dataframe tbody tr th {\n        vertical-align: top;\n    }\n\n    .dataframe thead th {\n        text-align: right;\n    }\n</style>\n<table border=\"1\" class=\"dataframe\">\n  <thead>\n    <tr style=\"text-align: right;\">\n      <th></th>\n      <th>advmod</th>\n      <th>aux</th>\n      <th>case</th>\n      <th>det</th>\n      <th>fixed</th>\n    </tr>\n    <tr>\n      <th>model</th>\n      <th></th>\n      <th></th>\n      <th></th>\n      <th></th>\n      <th></th>\n    </tr>\n  </thead>\n  <tbody>\n    <tr>\n      <th>baseline</th>\n      <td>292</td>\n      <td>292</td>\n      <td>293</td>\n      <td>292</td>\n      <td>288</td>\n    </tr>\n    <tr>\n      <th>bert</th>\n      <td>10</td>\n      <td>225</td>\n      <td>94</td>\n      <td>94</td>\n      <td>41</td>\n    </tr>\n    <tr>\n      <th>w2v2</th>\n      <td>49</td>\n      <td>94</td>\n      <td>89</td>\n      <td>97</td>\n      <td>40</td>\n    </tr>\n  </tbody>\n</table>\n</div>"
     },
     "execution_count": 10,
     "metadata": {},
     "output_type": "execute_result"
    }
   ],
   "source": [
    "cols = ['root', 'all', 'advmod', 'expl', 'cop', 'mark', 'aux', 'csubj', 'obj',\n",
    "       'amod', 'obl', 'case', 'det', 'xcomp', 'nsubj', 'advcl', 'cc', 'conj',\n",
    "       'acl:relcl', 'nmod', 'acl', 'appos', 'obl:tmod', 'compound',\n",
    "       'nmod:npmod', 'nmod:poss', 'aux:pass', 'ccomp', 'nummod', 'nsubj:pass',\n",
    "       'cc:preconj', 'compound:prt', 'flat', 'discourse', 'fixed', 'parataxis',\n",
    "       'orphan', 'obl:npmod', 'dep', 'iobj', 'vocative', 'det:predet',\n",
    "       'dislocated', 'goeswith', 'reparandum']\n",
    "selected_cols = ['advmod', 'aux', 'case', 'det', 'fixed']\n",
    "df.groupby(\"model\")[selected_cols].idxmax()"
   ],
   "metadata": {
    "collapsed": false,
    "ExecuteTime": {
     "end_time": "2023-07-30T11:34:53.406308678Z",
     "start_time": "2023-07-30T11:34:53.381678745Z"
    }
   }
  },
  {
   "cell_type": "code",
   "execution_count": 15,
   "outputs": [
    {
     "data": {
      "text/plain": "       advmod       aux      case       det     fixed  layer  head  direction  \\\n10   0.517964  0.500000  0.486822  0.675150  0.260870    0.0  10.0  dep->head   \n10   0.050898  0.054945  0.150388  0.121257  0.000000    0.0  10.0  dep->head   \n225  0.362275  0.697802  0.584496  0.550898  0.000000    6.0   9.0  head<-dep   \n225  0.095808  0.049451  0.038760  0.052395  0.391304    6.0   9.0  head<-dep   \n94   0.443114  0.538462  0.854264  0.946108  0.043478    7.0  10.0  dep->head   \n94   0.458084  0.626374  0.593798  0.643713  0.000000    7.0  10.0  dep->head   \n94   0.443114  0.538462  0.854264  0.946108  0.043478    7.0  10.0  dep->head   \n94   0.458084  0.626374  0.593798  0.643713  0.000000    7.0  10.0  dep->head   \n41   0.161677  0.000000  0.001550  0.025449  0.956522    3.0   5.0  dep->head   \n41   0.296407  0.263736  0.203101  0.372754  0.173913    3.0   5.0  dep->head   \n\n    model                                       desc  \n10   bert  layer 0.0, head 10.0, durection dep->head  \n10   w2v2  layer 0.0, head 10.0, durection dep->head  \n225  bert   layer 6.0, head 9.0, durection head<-dep  \n225  w2v2   layer 6.0, head 9.0, durection head<-dep  \n94   bert  layer 7.0, head 10.0, durection dep->head  \n94   w2v2  layer 7.0, head 10.0, durection dep->head  \n94   bert  layer 7.0, head 10.0, durection dep->head  \n94   w2v2  layer 7.0, head 10.0, durection dep->head  \n41   bert   layer 3.0, head 5.0, durection dep->head  \n41   w2v2   layer 3.0, head 5.0, durection dep->head  ",
      "text/html": "<div>\n<style scoped>\n    .dataframe tbody tr th:only-of-type {\n        vertical-align: middle;\n    }\n\n    .dataframe tbody tr th {\n        vertical-align: top;\n    }\n\n    .dataframe thead th {\n        text-align: right;\n    }\n</style>\n<table border=\"1\" class=\"dataframe\">\n  <thead>\n    <tr style=\"text-align: right;\">\n      <th></th>\n      <th>advmod</th>\n      <th>aux</th>\n      <th>case</th>\n      <th>det</th>\n      <th>fixed</th>\n      <th>layer</th>\n      <th>head</th>\n      <th>direction</th>\n      <th>model</th>\n      <th>desc</th>\n    </tr>\n  </thead>\n  <tbody>\n    <tr>\n      <th>10</th>\n      <td>0.517964</td>\n      <td>0.500000</td>\n      <td>0.486822</td>\n      <td>0.675150</td>\n      <td>0.260870</td>\n      <td>0.0</td>\n      <td>10.0</td>\n      <td>dep-&gt;head</td>\n      <td>bert</td>\n      <td>layer 0.0, head 10.0, durection dep-&gt;head</td>\n    </tr>\n    <tr>\n      <th>10</th>\n      <td>0.050898</td>\n      <td>0.054945</td>\n      <td>0.150388</td>\n      <td>0.121257</td>\n      <td>0.000000</td>\n      <td>0.0</td>\n      <td>10.0</td>\n      <td>dep-&gt;head</td>\n      <td>w2v2</td>\n      <td>layer 0.0, head 10.0, durection dep-&gt;head</td>\n    </tr>\n    <tr>\n      <th>225</th>\n      <td>0.362275</td>\n      <td>0.697802</td>\n      <td>0.584496</td>\n      <td>0.550898</td>\n      <td>0.000000</td>\n      <td>6.0</td>\n      <td>9.0</td>\n      <td>head&lt;-dep</td>\n      <td>bert</td>\n      <td>layer 6.0, head 9.0, durection head&lt;-dep</td>\n    </tr>\n    <tr>\n      <th>225</th>\n      <td>0.095808</td>\n      <td>0.049451</td>\n      <td>0.038760</td>\n      <td>0.052395</td>\n      <td>0.391304</td>\n      <td>6.0</td>\n      <td>9.0</td>\n      <td>head&lt;-dep</td>\n      <td>w2v2</td>\n      <td>layer 6.0, head 9.0, durection head&lt;-dep</td>\n    </tr>\n    <tr>\n      <th>94</th>\n      <td>0.443114</td>\n      <td>0.538462</td>\n      <td>0.854264</td>\n      <td>0.946108</td>\n      <td>0.043478</td>\n      <td>7.0</td>\n      <td>10.0</td>\n      <td>dep-&gt;head</td>\n      <td>bert</td>\n      <td>layer 7.0, head 10.0, durection dep-&gt;head</td>\n    </tr>\n    <tr>\n      <th>94</th>\n      <td>0.458084</td>\n      <td>0.626374</td>\n      <td>0.593798</td>\n      <td>0.643713</td>\n      <td>0.000000</td>\n      <td>7.0</td>\n      <td>10.0</td>\n      <td>dep-&gt;head</td>\n      <td>w2v2</td>\n      <td>layer 7.0, head 10.0, durection dep-&gt;head</td>\n    </tr>\n    <tr>\n      <th>94</th>\n      <td>0.443114</td>\n      <td>0.538462</td>\n      <td>0.854264</td>\n      <td>0.946108</td>\n      <td>0.043478</td>\n      <td>7.0</td>\n      <td>10.0</td>\n      <td>dep-&gt;head</td>\n      <td>bert</td>\n      <td>layer 7.0, head 10.0, durection dep-&gt;head</td>\n    </tr>\n    <tr>\n      <th>94</th>\n      <td>0.458084</td>\n      <td>0.626374</td>\n      <td>0.593798</td>\n      <td>0.643713</td>\n      <td>0.000000</td>\n      <td>7.0</td>\n      <td>10.0</td>\n      <td>dep-&gt;head</td>\n      <td>w2v2</td>\n      <td>layer 7.0, head 10.0, durection dep-&gt;head</td>\n    </tr>\n    <tr>\n      <th>41</th>\n      <td>0.161677</td>\n      <td>0.000000</td>\n      <td>0.001550</td>\n      <td>0.025449</td>\n      <td>0.956522</td>\n      <td>3.0</td>\n      <td>5.0</td>\n      <td>dep-&gt;head</td>\n      <td>bert</td>\n      <td>layer 3.0, head 5.0, durection dep-&gt;head</td>\n    </tr>\n    <tr>\n      <th>41</th>\n      <td>0.296407</td>\n      <td>0.263736</td>\n      <td>0.203101</td>\n      <td>0.372754</td>\n      <td>0.173913</td>\n      <td>3.0</td>\n      <td>5.0</td>\n      <td>dep-&gt;head</td>\n      <td>w2v2</td>\n      <td>layer 3.0, head 5.0, durection dep-&gt;head</td>\n    </tr>\n  </tbody>\n</table>\n</div>"
     },
     "execution_count": 15,
     "metadata": {},
     "output_type": "execute_result"
    }
   ],
   "source": [
    "df['desc'] = \"layer \" + df['layer'].astype(str) + \", head \" + df['head'].astype(str) + \", durection \" + df['direction'].astype(str)\n",
    "df.loc[[10, 225, 94, 94, 41] ,selected_cols+['layer', 'head', 'direction', 'model', 'desc']]"
   ],
   "metadata": {
    "collapsed": false,
    "ExecuteTime": {
     "end_time": "2023-07-30T11:41:13.308757425Z",
     "start_time": "2023-07-30T11:41:13.268223520Z"
    }
   }
  },
  {
   "cell_type": "code",
   "execution_count": 16,
   "outputs": [
    {
     "data": {
      "text/plain": "38    0.655689\n49    0.658683\n21    0.658683\n89    0.669162\n97    0.718563\nName: det, dtype: float64"
     },
     "execution_count": 16,
     "metadata": {},
     "output_type": "execute_result"
    }
   ],
   "source": [
    "df[df.model=='w2v2']['det'].sort_values().dropna().tail()"
   ],
   "metadata": {
    "collapsed": false,
    "ExecuteTime": {
     "end_time": "2023-07-30T11:41:15.170545159Z",
     "start_time": "2023-07-30T11:41:15.162714347Z"
    }
   }
  },
  {
   "cell_type": "code",
   "execution_count": 13,
   "outputs": [
    {
     "data": {
      "text/plain": "model   baseline      bert      w2v2\nadvmod  0.186394  0.122518  0.131575\naux     0.234603  0.165718  0.159906\ncase    0.203710  0.170485  0.144707\ndet     0.269153  0.198774  0.203164\nfixed   0.000000  0.252666  0.241291",
      "text/html": "<div>\n<style scoped>\n    .dataframe tbody tr th:only-of-type {\n        vertical-align: middle;\n    }\n\n    .dataframe tbody tr th {\n        vertical-align: top;\n    }\n\n    .dataframe thead th {\n        text-align: right;\n    }\n</style>\n<table border=\"1\" class=\"dataframe\">\n  <thead>\n    <tr style=\"text-align: right;\">\n      <th>model</th>\n      <th>baseline</th>\n      <th>bert</th>\n      <th>w2v2</th>\n    </tr>\n  </thead>\n  <tbody>\n    <tr>\n      <th>advmod</th>\n      <td>0.186394</td>\n      <td>0.122518</td>\n      <td>0.131575</td>\n    </tr>\n    <tr>\n      <th>aux</th>\n      <td>0.234603</td>\n      <td>0.165718</td>\n      <td>0.159906</td>\n    </tr>\n    <tr>\n      <th>case</th>\n      <td>0.203710</td>\n      <td>0.170485</td>\n      <td>0.144707</td>\n    </tr>\n    <tr>\n      <th>det</th>\n      <td>0.269153</td>\n      <td>0.198774</td>\n      <td>0.203164</td>\n    </tr>\n    <tr>\n      <th>fixed</th>\n      <td>0.000000</td>\n      <td>0.252666</td>\n      <td>0.241291</td>\n    </tr>\n  </tbody>\n</table>\n</div>"
     },
     "execution_count": 13,
     "metadata": {},
     "output_type": "execute_result"
    }
   ],
   "source": [
    "df.groupby('model')[selected_cols].std().transpose()"
   ],
   "metadata": {
    "collapsed": false,
    "ExecuteTime": {
     "end_time": "2023-07-30T11:35:00.317912256Z",
     "start_time": "2023-07-30T11:35:00.311940349Z"
    }
   }
  },
  {
   "cell_type": "code",
   "execution_count": 14,
   "outputs": [
    {
     "data": {
      "text/plain": "     layer  head\n0      0.0   0.0\n1      0.0   1.0\n2      0.0   2.0\n3      0.0   3.0\n4      0.0   4.0\n..     ...   ...\n283   11.0   7.0\n284   11.0   8.0\n285   11.0   9.0\n286   11.0  10.0\n287   11.0  11.0\n\n[582 rows x 2 columns]",
      "text/html": "<div>\n<style scoped>\n    .dataframe tbody tr th:only-of-type {\n        vertical-align: middle;\n    }\n\n    .dataframe tbody tr th {\n        vertical-align: top;\n    }\n\n    .dataframe thead th {\n        text-align: right;\n    }\n</style>\n<table border=\"1\" class=\"dataframe\">\n  <thead>\n    <tr style=\"text-align: right;\">\n      <th></th>\n      <th>layer</th>\n      <th>head</th>\n    </tr>\n  </thead>\n  <tbody>\n    <tr>\n      <th>0</th>\n      <td>0.0</td>\n      <td>0.0</td>\n    </tr>\n    <tr>\n      <th>1</th>\n      <td>0.0</td>\n      <td>1.0</td>\n    </tr>\n    <tr>\n      <th>2</th>\n      <td>0.0</td>\n      <td>2.0</td>\n    </tr>\n    <tr>\n      <th>3</th>\n      <td>0.0</td>\n      <td>3.0</td>\n    </tr>\n    <tr>\n      <th>4</th>\n      <td>0.0</td>\n      <td>4.0</td>\n    </tr>\n    <tr>\n      <th>...</th>\n      <td>...</td>\n      <td>...</td>\n    </tr>\n    <tr>\n      <th>283</th>\n      <td>11.0</td>\n      <td>7.0</td>\n    </tr>\n    <tr>\n      <th>284</th>\n      <td>11.0</td>\n      <td>8.0</td>\n    </tr>\n    <tr>\n      <th>285</th>\n      <td>11.0</td>\n      <td>9.0</td>\n    </tr>\n    <tr>\n      <th>286</th>\n      <td>11.0</td>\n      <td>10.0</td>\n    </tr>\n    <tr>\n      <th>287</th>\n      <td>11.0</td>\n      <td>11.0</td>\n    </tr>\n  </tbody>\n</table>\n<p>582 rows × 2 columns</p>\n</div>"
     },
     "execution_count": 14,
     "metadata": {},
     "output_type": "execute_result"
    }
   ],
   "source": [
    "df[['layer', 'head']]"
   ],
   "metadata": {
    "collapsed": false,
    "ExecuteTime": {
     "end_time": "2023-07-30T11:35:01.794882717Z",
     "start_time": "2023-07-30T11:35:01.792054148Z"
    }
   }
  },
  {
   "cell_type": "code",
   "execution_count": 14,
   "outputs": [],
   "source": [],
   "metadata": {
    "collapsed": false,
    "ExecuteTime": {
     "end_time": "2023-07-30T11:35:02.721884032Z",
     "start_time": "2023-07-30T11:35:02.707765859Z"
    }
   }
  },
  {
   "cell_type": "code",
   "execution_count": null,
   "outputs": [],
   "source": [],
   "metadata": {
    "collapsed": false
   }
  }
 ],
 "metadata": {
  "kernelspec": {
   "display_name": "Python 3",
   "language": "python",
   "name": "python3"
  },
  "language_info": {
   "codemirror_mode": {
    "name": "ipython",
    "version": 2
   },
   "file_extension": ".py",
   "mimetype": "text/x-python",
   "name": "python",
   "nbconvert_exporter": "python",
   "pygments_lexer": "ipython2",
   "version": "2.7.6"
  }
 },
 "nbformat": 4,
 "nbformat_minor": 0
}
